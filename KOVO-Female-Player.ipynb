{
 "cells": [
  {
   "cell_type": "code",
   "execution_count": null,
   "metadata": {},
   "outputs": [],
   "source": [
    "import requests\n",
    "import re\n",
    "from bs4 import BeautifulSoup\n",
    "import csv"
   ]
  },
  {
   "cell_type": "code",
   "execution_count": null,
   "metadata": {},
   "outputs": [],
   "source": [
    "filename = \"kovo-female-fa.csv\"\n",
    "f = open(filename, 'w', encoding='utf8')\n",
    "writer = csv.writer(f)"
   ]
  },
  {
   "cell_type": "code",
   "execution_count": null,
   "metadata": {},
   "outputs": [],
   "source": [
    "title = \"Player Open_Tried Open_Success Open_Sr Delay_Tried Delay_Success Delay_Sr Move_Tried Move_Success Move_SR Back_Tried Back_Success Back_SR Quick_Tried Quick_Success Quick_SR Quickopen_Tried Quickopen_Success Quickopen_SR Serve_Tried Serve_Success Serve_SR Dig_Tried Dig_Success Dig_SR Set_Tried Set_Success Set_SR Receive_Tried Receive_Accurate Receive_AR Blocking_Tried Blocking_Success Blocking_Effective Blocking_SR Blocking_ER Error Sets_Played Error/Set\".split(' ')\n",
    "writer.writerow(title)"
   ]
  },
  {
   "cell_type": "code",
   "execution_count": null,
   "metadata": {},
   "outputs": [],
   "source": [
    "team_list = ['현대건설', 'GS칼텍스', 'KGC인삼공사', '한국도로공사', '흥국생명', 'IBK기업은행', '페퍼저축은행', '도로공사', 'KT&G', '인삼공사']\n",
    "player_dic = {}"
   ]
  },
  {
   "cell_type": "code",
   "execution_count": null,
   "metadata": {},
   "outputs": [],
   "source": [
    "for num in range(1,400):\n",
    "        url = \"https://www.kovo.co.kr/game/v-league/11141_game-summary.asp?season=018&g_part=201&r_round=6&g_num=\"+str(num)+\"&\"\n",
    "        print(url)\n",
    "        res = requests.get(url)\n",
    "        soup = BeautifulSoup(res.text,\"lxml\")\n",
    "\n",
    "        team_names = soup.find_all(\"span\", {'class':'team'})\n",
    "        if team_names == []:\n",
    "            break\n",
    "        scores = soup.find_all('p',{'class':'num'})\n",
    "        total_sets = int(scores[0].get_text())+int(scores[1].get_text())\n",
    "        if scores[0].get_text() == scores[1].get_text():\n",
    "            break\n",
    "        if team_names[0].get_text() not in team_list:\n",
    "            continue\n",
    "        if team_names[1].get_text() not in team_list:\n",
    "            continue\n",
    "        \n",
    "        team_records = soup.find_all(\"div\", {\"class\":\"wrp_lst\"})\n",
    "        for no in range(2): #팀 2개\n",
    "            team_record = team_records[no]\n",
    "            tables = team_record.find_all('table')\n",
    "            temp_dic = {}\n",
    "            player_trs = tables[0].find('tbody').find_all('tr') #1\n",
    "            for tr in player_trs:\n",
    "                name = tr.find(\"td\",{\"class\":\"name\"}).get_text()\n",
    "                temp_dic[name] = []\n",
    "\n",
    "            trs = tables[2].find('tbody').find_all('tr') #2\n",
    "            for tr, player in zip(trs,temp_dic):\n",
    "                tds = tr.find_all('td')\n",
    "                temp_dic[player].append(int(tds[0].get_text()))\n",
    "                temp_dic[player].append(int(tds[1].get_text()))\n",
    "\n",
    "                temp_dic[player].append(int(tds[6].get_text()))\n",
    "                temp_dic[player].append(int(tds[7].get_text()))\n",
    "\n",
    "                temp_dic[player].append(int(tds[12].get_text()))\n",
    "                temp_dic[player].append(int(tds[13].get_text()))\n",
    "\n",
    "            trs = tables[3].find('tbody').find_all('tr') #3\n",
    "            for tr, player in zip(trs,temp_dic):\n",
    "                tds = tr.find_all('td')\n",
    "                temp_dic[player].append(int(tds[0].get_text()))\n",
    "                temp_dic[player].append(int(tds[1].get_text()))\n",
    "\n",
    "                temp_dic[player].append(int(tds[6].get_text()))\n",
    "                temp_dic[player].append(int(tds[7].get_text()))\n",
    "\n",
    "                temp_dic[player].append(int(tds[12].get_text()))\n",
    "                temp_dic[player].append(int(tds[13].get_text()))\n",
    "\n",
    "            trs = tables[4].find('tbody').find_all('tr') #4\n",
    "            for tr, player in zip(trs,temp_dic):\n",
    "                tds = tr.find_all('td')\n",
    "                temp_dic[player].append(int(tds[0].get_text()))\n",
    "                temp_dic[player].append(int(tds[1].get_text()))\n",
    "\n",
    "                temp_dic[player].append(int(tds[5].get_text()))\n",
    "                temp_dic[player].append(int(tds[6].get_text()))\n",
    "\n",
    "                temp_dic[player].append(int(tds[11].get_text()))\n",
    "                temp_dic[player].append(int(tds[12].get_text()))\n",
    "\n",
    "            trs = tables[5].find('tbody').find_all('tr') #5\n",
    "            for tr, player in zip(trs,temp_dic):\n",
    "                tds = tr.find_all('td')\n",
    "                temp_dic[player].append(int(tds[0].get_text()))\n",
    "                temp_dic[player].append(int(tds[1].get_text()))\n",
    "\n",
    "                temp_dic[player].append(int(tds[5].get_text()))\n",
    "                temp_dic[player].append(int(tds[6].get_text()))\n",
    "                temp_dic[player].append(int(tds[7].get_text()))\n",
    "\n",
    "                temp_dic[player].append(int(tds[-1].get_text()))\n",
    "                temp_dic[player].append(total_sets)\n",
    "            \n",
    "            for player in temp_dic:\n",
    "                #print(player)\n",
    "                if player not in player_dic:\n",
    "                    player_dic[player] = temp_dic[player]\n",
    "                    #print(\"1\")\n",
    "                    #print(len(player_dic))\n",
    "                else:\n",
    "                    for i in range(25):\n",
    "                        player_dic[player][i] += temp_dic[player][i]\n",
    "                    #print(\"2\")\n",
    "                    #print(len(player_dic))\n",
    "            #print(player_dic)\n",
    "            "
   ]
  },
  {
   "cell_type": "code",
   "execution_count": null,
   "metadata": {},
   "outputs": [],
   "source": [
    "new_dic = player_dic"
   ]
  },
  {
   "cell_type": "code",
   "execution_count": null,
   "metadata": {},
   "outputs": [],
   "source": [
    "for i in new_dic:\n",
    "    for j in range(11):\n",
    "        j=j*3\n",
    "        if new_dic[i][j] == 0:\n",
    "            new_dic[i].insert(j+2,\"NA\")\n",
    "        else:\n",
    "            new_dic[i].insert(j+2,new_dic[i][j+1]/new_dic[i][j])\n",
    "    if new_dic[i][30] == 0:\n",
    "        new_dic[i].insert(34,\"NA\")\n",
    "    else:\n",
    "        new_dic[i].insert(34,new_dic[i][33]/new_dic[i][30])\n",
    "    new_dic[i].append(new_dic[i][35]/new_dic[i][36])"
   ]
  },
  {
   "cell_type": "code",
   "execution_count": null,
   "metadata": {},
   "outputs": [],
   "source": [
    "for i in new_dic:\n",
    "    row = [i]+new_dic[i]\n",
    "    writer.writerow(row)"
   ]
  },
  {
   "cell_type": "code",
   "execution_count": null,
   "metadata": {},
   "outputs": [],
   "source": [
    "for i in range(100):\n",
    "    title = \"Player Open_Tried Open_Success Open_Sr Delay_Tried Delay_Success Delay_Sr Move_Tried Move_Success Move_SR Back_Tried Back_Success Back_SR Quick_Tried Quick_Success Quick_SR Quickopen_Tried Quickopen_Success Quickopen_SR Serve_Tried Serve_Success Serve_SR Dig_Tried Dig_Success Dig_SR Set_Tried Set_Success Set_SR Receive_Tried Receive_Accurate Receive_AR Blocking_Tried Blocking_Success Blocking_Effective Blocking_SR Blocking_ER Error Sets_Played Error/Set\".split(' ')\n",
    "    writer.writerow(title)"
   ]
  }
 ],
 "metadata": {
  "interpreter": {
   "hash": "31f2aee4e71d21fbe5cf8b01ff0e069b9275f58929596ceb00d14d90e3e16cd6"
  },
  "kernelspec": {
   "display_name": "Python 3.8.9 64-bit",
   "language": "python",
   "name": "python3"
  },
  "language_info": {
   "codemirror_mode": {
    "name": "ipython",
    "version": 3
   },
   "file_extension": ".py",
   "mimetype": "text/x-python",
   "name": "python",
   "nbconvert_exporter": "python",
   "pygments_lexer": "ipython3",
   "version": "3.8.9"
  },
  "orig_nbformat": 4
 },
 "nbformat": 4,
 "nbformat_minor": 2
}
